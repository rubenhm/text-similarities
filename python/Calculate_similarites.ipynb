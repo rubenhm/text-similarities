{
 "cells": [
  {
   "cell_type": "code",
   "execution_count": 21,
   "metadata": {},
   "outputs": [],
   "source": [
    "# Import libraries\n",
    "import os\n",
    "import re\n",
    "import io\n",
    "import sys\n",
    "import pandas as pd\n",
    "import numpy as np\n",
    "import pickle\n",
    "import torch\n",
    "import scipy.stats\n",
    "import matplotlib.pyplot as plt\n",
    "%matplotlib inline\n",
    "from sentence_transformers import SentenceTransformer, util\n",
    "from sklearn.metrics.pairwise import cosine_similarity"
   ]
  },
  {
   "cell_type": "code",
   "execution_count": 2,
   "metadata": {},
   "outputs": [],
   "source": [
    "# Read data\n",
    "minutes = pd.read_pickle('../data/data-gen/sent_minutes.p')\n",
    "seps    = pd.read_pickle('../data/data-gen/sent_seps.p')\n",
    "beigeb  = pd.read_pickle('../data/data-gen/sent_beigebook.p')\n",
    "movies  = pd.read_pickle('../data/data-gen/sent_movies.p')"
   ]
  },
  {
   "cell_type": "code",
   "execution_count": 31,
   "metadata": {},
   "outputs": [
    {
     "name": "stdout",
     "output_type": "stream",
     "text": [
      "(4389, 3)\n"
     ]
    },
    {
     "data": {
      "text/html": [
       "<div>\n",
       "<style scoped>\n",
       "    .dataframe tbody tr th:only-of-type {\n",
       "        vertical-align: middle;\n",
       "    }\n",
       "\n",
       "    .dataframe tbody tr th {\n",
       "        vertical-align: top;\n",
       "    }\n",
       "\n",
       "    .dataframe thead th {\n",
       "        text-align: right;\n",
       "    }\n",
       "</style>\n",
       "<table border=\"1\" class=\"dataframe\">\n",
       "  <thead>\n",
       "    <tr style=\"text-align: right;\">\n",
       "      <th></th>\n",
       "      <th>doc_id</th>\n",
       "      <th>sentence_id</th>\n",
       "      <th>text</th>\n",
       "    </tr>\n",
       "  </thead>\n",
       "  <tbody>\n",
       "    <tr>\n",
       "      <th>0</th>\n",
       "      <td>20071031</td>\n",
       "      <td>1</td>\n",
       "      <td>conjunction fomc meeting october meeting parti...</td>\n",
       "    </tr>\n",
       "    <tr>\n",
       "      <th>1</th>\n",
       "      <td>20071031</td>\n",
       "      <td>2</td>\n",
       "      <td>projec tions summary economic projections atta...</td>\n",
       "    </tr>\n",
       "    <tr>\n",
       "      <th>2</th>\n",
       "      <td>20071031</td>\n",
       "      <td>3</td>\n",
       "      <td>discussion economic outlook situa tion project...</td>\n",
       "    </tr>\n",
       "    <tr>\n",
       "      <th>3</th>\n",
       "      <td>20071031</td>\n",
       "      <td>4</td>\n",
       "      <td>conditions financial markets improved septembe...</td>\n",
       "    </tr>\n",
       "    <tr>\n",
       "      <th>4</th>\n",
       "      <td>20071031</td>\n",
       "      <td>5</td>\n",
       "      <td>easing monetary policy participants expected e...</td>\n",
       "    </tr>\n",
       "  </tbody>\n",
       "</table>\n",
       "</div>"
      ],
      "text/plain": [
       "     doc_id  sentence_id                                               text\n",
       "0  20071031            1  conjunction fomc meeting october meeting parti...\n",
       "1  20071031            2  projec tions summary economic projections atta...\n",
       "2  20071031            3  discussion economic outlook situa tion project...\n",
       "3  20071031            4  conditions financial markets improved septembe...\n",
       "4  20071031            5  easing monetary policy participants expected e..."
      ]
     },
     "execution_count": 31,
     "metadata": {},
     "output_type": "execute_result"
    }
   ],
   "source": [
    "print(minutes.shape)\n",
    "minutes.head()"
   ]
  },
  {
   "cell_type": "code",
   "execution_count": 32,
   "metadata": {},
   "outputs": [
    {
     "name": "stdout",
     "output_type": "stream",
     "text": [
      "(4520, 3)\n"
     ]
    },
    {
     "data": {
      "text/html": [
       "<div>\n",
       "<style scoped>\n",
       "    .dataframe tbody tr th:only-of-type {\n",
       "        vertical-align: middle;\n",
       "    }\n",
       "\n",
       "    .dataframe tbody tr th {\n",
       "        vertical-align: top;\n",
       "    }\n",
       "\n",
       "    .dataframe thead th {\n",
       "        text-align: right;\n",
       "    }\n",
       "</style>\n",
       "<table border=\"1\" class=\"dataframe\">\n",
       "  <thead>\n",
       "    <tr style=\"text-align: right;\">\n",
       "      <th></th>\n",
       "      <th>doc_id</th>\n",
       "      <th>sentence_id</th>\n",
       "      <th>text</th>\n",
       "    </tr>\n",
       "  </thead>\n",
       "  <tbody>\n",
       "    <tr>\n",
       "      <th>0</th>\n",
       "      <td>20071031</td>\n",
       "      <td>1</td>\n",
       "      <td>summary economic projections conjunction octob...</td>\n",
       "    </tr>\n",
       "    <tr>\n",
       "      <th>1</th>\n",
       "      <td>20071031</td>\n",
       "      <td>2</td>\n",
       "      <td>projections based information con clusion octo...</td>\n",
       "    </tr>\n",
       "    <tr>\n",
       "      <th>2</th>\n",
       "      <td>20071031</td>\n",
       "      <td>3</td>\n",
       "      <td>monetary policy defined future policy foster o...</td>\n",
       "    </tr>\n",
       "    <tr>\n",
       "      <th>3</th>\n",
       "      <td>20071031</td>\n",
       "      <td>4</td>\n",
       "      <td>projections summarized table chart suggest fom...</td>\n",
       "    </tr>\n",
       "    <tr>\n",
       "      <th>4</th>\n",
       "      <td>20071031</td>\n",
       "      <td>5</td>\n",
       "      <td>ahead output projected expand pace close run t...</td>\n",
       "    </tr>\n",
       "  </tbody>\n",
       "</table>\n",
       "</div>"
      ],
      "text/plain": [
       "     doc_id  sentence_id                                               text\n",
       "0  20071031            1  summary economic projections conjunction octob...\n",
       "1  20071031            2  projections based information con clusion octo...\n",
       "2  20071031            3  monetary policy defined future policy foster o...\n",
       "3  20071031            4  projections summarized table chart suggest fom...\n",
       "4  20071031            5  ahead output projected expand pace close run t..."
      ]
     },
     "execution_count": 32,
     "metadata": {},
     "output_type": "execute_result"
    }
   ],
   "source": [
    "print(seps.shape)\n",
    "seps.head()"
   ]
  },
  {
   "cell_type": "code",
   "execution_count": 33,
   "metadata": {},
   "outputs": [
    {
     "name": "stdout",
     "output_type": "stream",
     "text": [
      "(6345, 3)\n"
     ]
    },
    {
     "data": {
      "text/html": [
       "<div>\n",
       "<style scoped>\n",
       "    .dataframe tbody tr th:only-of-type {\n",
       "        vertical-align: middle;\n",
       "    }\n",
       "\n",
       "    .dataframe tbody tr th {\n",
       "        vertical-align: top;\n",
       "    }\n",
       "\n",
       "    .dataframe thead th {\n",
       "        text-align: right;\n",
       "    }\n",
       "</style>\n",
       "<table border=\"1\" class=\"dataframe\">\n",
       "  <thead>\n",
       "    <tr style=\"text-align: right;\">\n",
       "      <th></th>\n",
       "      <th>doc_id</th>\n",
       "      <th>sentence_id</th>\n",
       "      <th>text</th>\n",
       "    </tr>\n",
       "  </thead>\n",
       "  <tbody>\n",
       "    <tr>\n",
       "      <th>0</th>\n",
       "      <td>20071031</td>\n",
       "      <td>1</td>\n",
       "      <td>beige book national summary october anecdotal ...</td>\n",
       "    </tr>\n",
       "    <tr>\n",
       "      <th>1</th>\n",
       "      <td>20071031</td>\n",
       "      <td>2</td>\n",
       "      <td>growth similar observed beige book districts a...</td>\n",
       "    </tr>\n",
       "    <tr>\n",
       "      <th>2</th>\n",
       "      <td>20071031</td>\n",
       "      <td>3</td>\n",
       "      <td>louis</td>\n",
       "    </tr>\n",
       "    <tr>\n",
       "      <th>3</th>\n",
       "      <td>20071031</td>\n",
       "      <td>4</td>\n",
       "      <td>economy grew slower rate districts cleveland d...</td>\n",
       "    </tr>\n",
       "    <tr>\n",
       "      <th>4</th>\n",
       "      <td>20071031</td>\n",
       "      <td>5</td>\n",
       "      <td>expansion variously characterized moderate mod...</td>\n",
       "    </tr>\n",
       "  </tbody>\n",
       "</table>\n",
       "</div>"
      ],
      "text/plain": [
       "     doc_id  sentence_id                                               text\n",
       "0  20071031            1  beige book national summary october anecdotal ...\n",
       "1  20071031            2  growth similar observed beige book districts a...\n",
       "2  20071031            3                                              louis\n",
       "3  20071031            4  economy grew slower rate districts cleveland d...\n",
       "4  20071031            5  expansion variously characterized moderate mod..."
      ]
     },
     "execution_count": 33,
     "metadata": {},
     "output_type": "execute_result"
    }
   ],
   "source": [
    "print(beigeb.shape)\n",
    "beigeb.head()"
   ]
  },
  {
   "cell_type": "code",
   "execution_count": 34,
   "metadata": {},
   "outputs": [
    {
     "name": "stdout",
     "output_type": "stream",
     "text": [
      "(2080, 3)\n"
     ]
    },
    {
     "data": {
      "text/html": [
       "<div>\n",
       "<style scoped>\n",
       "    .dataframe tbody tr th:only-of-type {\n",
       "        vertical-align: middle;\n",
       "    }\n",
       "\n",
       "    .dataframe tbody tr th {\n",
       "        vertical-align: top;\n",
       "    }\n",
       "\n",
       "    .dataframe thead th {\n",
       "        text-align: right;\n",
       "    }\n",
       "</style>\n",
       "<table border=\"1\" class=\"dataframe\">\n",
       "  <thead>\n",
       "    <tr style=\"text-align: right;\">\n",
       "      <th></th>\n",
       "      <th>doc_id</th>\n",
       "      <th>sentence_id</th>\n",
       "      <th>text</th>\n",
       "    </tr>\n",
       "  </thead>\n",
       "  <tbody>\n",
       "    <tr>\n",
       "      <th>0</th>\n",
       "      <td>20071031</td>\n",
       "      <td>1</td>\n",
       "      <td>holidate</td>\n",
       "    </tr>\n",
       "    <tr>\n",
       "      <th>1</th>\n",
       "      <td>20071031</td>\n",
       "      <td>2</td>\n",
       "      <td>emma roberts stars single girl arranges standi...</td>\n",
       "    </tr>\n",
       "    <tr>\n",
       "      <th>2</th>\n",
       "      <td>20071031</td>\n",
       "      <td>3</td>\n",
       "      <td>craft legacy</td>\n",
       "    </tr>\n",
       "    <tr>\n",
       "      <th>3</th>\n",
       "      <td>20071031</td>\n",
       "      <td>4</td>\n",
       "      <td>witchy foursome picks brooms follow craft zoe ...</td>\n",
       "    </tr>\n",
       "    <tr>\n",
       "      <th>4</th>\n",
       "      <td>20071031</td>\n",
       "      <td>5</td>\n",
       "      <td>constitution means</td>\n",
       "    </tr>\n",
       "  </tbody>\n",
       "</table>\n",
       "</div>"
      ],
      "text/plain": [
       "     doc_id  sentence_id                                               text\n",
       "0  20071031            1                                           holidate\n",
       "1  20071031            2  emma roberts stars single girl arranges standi...\n",
       "2  20071031            3                                       craft legacy\n",
       "3  20071031            4  witchy foursome picks brooms follow craft zoe ...\n",
       "4  20071031            5                                 constitution means"
      ]
     },
     "execution_count": 34,
     "metadata": {},
     "output_type": "execute_result"
    }
   ],
   "source": [
    "print(movies.shape)\n",
    "movies.head()"
   ]
  },
  {
   "cell_type": "code",
   "execution_count": 8,
   "metadata": {},
   "outputs": [],
   "source": [
    "# Load big roBERTa model and use the GPU\n",
    "model = SentenceTransformer('c:/Users/d1rxh02/Downloads/rfolder/SentenceTransformers/roberta-large-nli-stsb-means-tokens', device = 'cuda' )"
   ]
  },
  {
   "cell_type": "code",
   "execution_count": 9,
   "metadata": {},
   "outputs": [
    {
     "name": "stdout",
     "output_type": "stream",
     "text": [
      "(67,)\n",
      "(56,)\n"
     ]
    }
   ],
   "source": [
    "# example\n",
    "sentences1 = minutes[minutes.doc_id=='20080130'].text\n",
    "sentences2 = seps[seps.doc_id=='20080130'].text\n",
    "print(sentences1.shape)\n",
    "print(sentences2.shape)"
   ]
  },
  {
   "cell_type": "code",
   "execution_count": 10,
   "metadata": {},
   "outputs": [],
   "source": [
    "# Have to reset the index or an error pops up\n",
    "sentences1 = sentences1.reset_index()\n",
    "sentences2 = sentences2.reset_index()"
   ]
  },
  {
   "cell_type": "code",
   "execution_count": 11,
   "metadata": {},
   "outputs": [],
   "source": [
    "# Compute embeddings for both lists\n",
    "# The result is a list of vectors, one for each sentence\n",
    "embeddings1 = model.encode(sentences1.text, convert_to_tensor=True)\n",
    "embeddings2 = model.encode(sentences2.text, convert_to_tensor=True)"
   ]
  },
  {
   "cell_type": "code",
   "execution_count": 12,
   "metadata": {},
   "outputs": [
    {
     "data": {
      "text/plain": [
       "torch.Tensor"
      ]
     },
     "execution_count": 12,
     "metadata": {},
     "output_type": "execute_result"
    }
   ],
   "source": [
    "type(embeddings1)"
   ]
  },
  {
   "cell_type": "code",
   "execution_count": 14,
   "metadata": {},
   "outputs": [
    {
     "name": "stdout",
     "output_type": "stream",
     "text": [
      "torch.Size([67, 1024])\n",
      "torch.Size([56, 1024])\n"
     ]
    }
   ],
   "source": [
    "print(embeddings1.shape)\n",
    "print(embeddings2.shape)"
   ]
  },
  {
   "cell_type": "code",
   "execution_count": 15,
   "metadata": {},
   "outputs": [],
   "source": [
    "# Compute cosine-similarities\n",
    "# This calculates the similarities between all pairs of vectors\n",
    "cosine_scores = util.pytorch_cos_sim(embeddings1, embeddings2)"
   ]
  },
  {
   "cell_type": "code",
   "execution_count": 16,
   "metadata": {},
   "outputs": [
    {
     "data": {
      "text/plain": [
       "torch.Size([67, 56])"
      ]
     },
     "execution_count": 16,
     "metadata": {},
     "output_type": "execute_result"
    }
   ],
   "source": [
    "cosine_scores.shape"
   ]
  },
  {
   "cell_type": "code",
   "execution_count": 17,
   "metadata": {},
   "outputs": [
    {
     "data": {
      "text/plain": [
       "tensor([[0.9024, 0.7340, 0.5987,  ..., 0.4959, 0.3602, 0.5570],\n",
       "        [0.3936, 0.4746, 0.4435,  ..., 0.4256, 0.3156, 0.4018],\n",
       "        [0.5028, 0.5167, 0.2500,  ..., 0.3385, 0.3395, 0.2817],\n",
       "        ...,\n",
       "        [0.5282, 0.4829, 0.5473,  ..., 0.5658, 0.5898, 0.5626],\n",
       "        [0.2224, 0.3900, 0.4823,  ..., 0.4953, 0.3920, 0.3966],\n",
       "        [0.4481, 0.4789, 0.4873,  ..., 0.5254, 0.4351, 0.4270]],\n",
       "       device='cuda:0')"
      ]
     },
     "execution_count": 17,
     "metadata": {},
     "output_type": "execute_result"
    }
   ],
   "source": [
    "# This is 2-dim array of cross-pairs, not what we want\n",
    "cosine_scores"
   ]
  },
  {
   "cell_type": "code",
   "execution_count": 18,
   "metadata": {},
   "outputs": [],
   "source": [
    "# Calculate average of embeddings\n",
    "# This provides one vector per document\n",
    "# Alternatively, can calculate sum\n",
    "embedding_1 = torch.mean(embeddings1, dim = 0)\n",
    "embedding_2 = torch.mean(embeddings2, dim = 0)"
   ]
  },
  {
   "cell_type": "code",
   "execution_count": 19,
   "metadata": {},
   "outputs": [
    {
     "name": "stdout",
     "output_type": "stream",
     "text": [
      "tensor(0.8456, device='cuda:0')\n"
     ]
    }
   ],
   "source": [
    "# Calculate cosine similarity\n",
    "# This returns a scalar measure\n",
    "cos_sim = torch.nn.CosineSimilarity(dim = 0)\n",
    "result = cos_sim(embedding_1, embedding_2)\n",
    "print(result)"
   ]
  },
  {
   "cell_type": "code",
   "execution_count": 49,
   "metadata": {},
   "outputs": [],
   "source": [
    "# Define main procedure to calculate 3 different measures of document similarity\n",
    "# between pairs among 4 documents\n",
    "\n",
    "def calc_simil_docs(doc1, doc2, doc3, doc4):\n",
    "    # Calculates similarity between pairs of documents\n",
    "    # Each document is a series of sentences\n",
    "           \n",
    "    # Calculate embeddings of all sentences at once, these are one vector per sentence\n",
    "    embeddings1 = model.encode(doc1.reset_index(drop = True), convert_to_tensor=True)\n",
    "    embeddings2 = model.encode(doc2.reset_index(drop = True), convert_to_tensor=True)\n",
    "    embeddings3 = model.encode(doc3.reset_index(drop = True), convert_to_tensor=True)\n",
    "    embeddings4 = model.encode(doc4.reset_index(drop = True), convert_to_tensor=True)\n",
    "        \n",
    "    # Calculate mean of embeddings, this is now a vector per document\n",
    "    embedding_1 = torch.mean(embeddings1, dim = 0)\n",
    "    embedding_2 = torch.mean(embeddings2, dim = 0)\n",
    "    embedding_3 = torch.mean(embeddings3, dim = 0)\n",
    "    embedding_4 = torch.mean(embeddings4, dim = 0)\n",
    "\n",
    "    # Calculate different measures of similarity\n",
    "    \n",
    "    # 1. Calculate cosine similarity between two tensors\n",
    "    cos_sim = torch.nn.CosineSimilarity(dim = 0)\n",
    "    cosine_similarity_1_2 = cos_sim(embedding_1, embedding_2)\n",
    "    cosine_similarity_1_3 = cos_sim(embedding_1, embedding_3)\n",
    "    cosine_similarity_1_4 = cos_sim(embedding_1, embedding_4)\n",
    "    cosine_similarity_2_3 = cos_sim(embedding_2, embedding_3)\n",
    "    cosine_similarity_2_4 = cos_sim(embedding_2, embedding_4)\n",
    "    cosine_similarity_3_4 = cos_sim(embedding_3, embedding_4)\n",
    "    \n",
    "    # 2. Calculate Euclidean distance similariy = (1 - distance)\n",
    "    # Calculate norm\n",
    "    norm_embedding_1 = torch.linalg.norm(embedding_1)\n",
    "    norm_embedding_2 = torch.linalg.norm(embedding_2)\n",
    "    norm_embedding_3 = torch.linalg.norm(embedding_3)\n",
    "    norm_embedding_4 = torch.linalg.norm(embedding_4)\n",
    "    # Normalize tensors\n",
    "    embedding_1_norm   = embedding_1.div(norm_embedding_1)\n",
    "    embedding_2_norm   = embedding_2.div(norm_embedding_2)\n",
    "    embedding_3_norm   = embedding_1.div(norm_embedding_3)\n",
    "    embedding_4_norm   = embedding_2.div(norm_embedding_4)\n",
    "    # Calculate Euclidean distance and similariy   \n",
    "    euclidean_similarity_1_2 = 1 - torch.dist(embedding_1_norm, embedding_2_norm)\n",
    "    euclidean_similarity_1_3 = 1 - torch.dist(embedding_1_norm, embedding_3_norm)\n",
    "    euclidean_similarity_1_4 = 1 - torch.dist(embedding_1_norm, embedding_4_norm)\n",
    "    euclidean_similarity_2_3 = 1 - torch.dist(embedding_2_norm, embedding_3_norm)\n",
    "    euclidean_similarity_2_4 = 1 - torch.dist(embedding_2_norm, embedding_4_norm)\n",
    "    euclidean_similarity_3_4 = 1 - torch.dist(embedding_3_norm, embedding_4_norm)\n",
    "    \n",
    "    # 3. Calculate Pearson correlation\n",
    "    # Transform tensors into numpy arrays and calculate correlation \n",
    "    emb_np_1 = embedding_1.cpu().numpy()\n",
    "    emb_np_2 = embedding_2.cpu().numpy()\n",
    "    emb_np_3 = embedding_3.cpu().numpy()\n",
    "    emb_np_4 = embedding_4.cpu().numpy()\n",
    "    # Calculate correlatoin \n",
    "    pearson_correlation_1_2 = scipy.stats.pearsonr(emb_np_1, emb_np_2)[0]\n",
    "    pearson_correlation_1_3 = scipy.stats.pearsonr(emb_np_1, emb_np_3)[0]\n",
    "    pearson_correlation_1_4 = scipy.stats.pearsonr(emb_np_1, emb_np_4)[0]\n",
    "    pearson_correlation_2_3 = scipy.stats.pearsonr(emb_np_2, emb_np_3)[0]\n",
    "    pearson_correlation_2_4 = scipy.stats.pearsonr(emb_np_2, emb_np_4)[0]\n",
    "    pearson_correlation_3_4 = scipy.stats.pearsonr(emb_np_3, emb_np_4)[0]\n",
    "    \n",
    "    # Collect results, bringing to cpu from gpu as numpy arrays\n",
    "    cosine_similarity     = torch.stack([cosine_similarity_1_2, \n",
    "                                         cosine_similarity_1_3, \n",
    "                                         cosine_similarity_1_4, \n",
    "                                         cosine_similarity_2_3, \n",
    "                                         cosine_similarity_2_4, \n",
    "                                         cosine_similarity_3_4]).cpu().numpy()\n",
    "    euclidean_similarity =  torch.stack([euclidean_similarity_1_2, \n",
    "                                         euclidean_similarity_1_3, \n",
    "                                         euclidean_similarity_1_4, \n",
    "                                         euclidean_similarity_2_3, \n",
    "                                         euclidean_similarity_2_4, \n",
    "                                         euclidean_similarity_3_4]).cpu().numpy()\n",
    "    pearson_correlation =   np.array([pearson_correlation_1_2, \n",
    "                                     pearson_correlation_1_3, \n",
    "                                     pearson_correlation_1_4, \n",
    "                                     pearson_correlation_2_3, \n",
    "                                     pearson_correlation_2_4, \n",
    "                                     pearson_correlation_3_4])\n",
    "        \n",
    "    return cosine_similarity, euclidean_similarity, pearson_correlation"
   ]
  },
  {
   "cell_type": "code",
   "execution_count": 53,
   "metadata": {},
   "outputs": [
    {
     "name": "stdout",
     "output_type": "stream",
     "text": [
      "Now processing doc_id= 20071031  ...\n",
      "Now processing doc_id= 20080130  ...\n",
      "Now processing doc_id= 20080430  ...\n",
      "Now processing doc_id= 20080625  ...\n",
      "Now processing doc_id= 20081029  ...\n",
      "Now processing doc_id= 20090128  ...\n",
      "Now processing doc_id= 20090429  ...\n",
      "Now processing doc_id= 20090624  ...\n",
      "Now processing doc_id= 20091104  ...\n",
      "Now processing doc_id= 20100127  ...\n",
      "Now processing doc_id= 20100428  ...\n",
      "Now processing doc_id= 20100623  ...\n",
      "Now processing doc_id= 20101103  ...\n",
      "Now processing doc_id= 20110126  ...\n",
      "Now processing doc_id= 20110427  ...\n",
      "Now processing doc_id= 20110622  ...\n",
      "Now processing doc_id= 20111102  ...\n",
      "Now processing doc_id= 20120125  ...\n",
      "Now processing doc_id= 20120425  ...\n",
      "Now processing doc_id= 20120620  ...\n",
      "Now processing doc_id= 20120913  ...\n",
      "Now processing doc_id= 20121212  ...\n",
      "Now processing doc_id= 20130320  ...\n",
      "Now processing doc_id= 20130619  ...\n",
      "Now processing doc_id= 20130918  ...\n",
      "Now processing doc_id= 20131218  ...\n",
      "Now processing doc_id= 20140319  ...\n",
      "Now processing doc_id= 20140618  ...\n",
      "Now processing doc_id= 20140917  ...\n",
      "Now processing doc_id= 20141217  ...\n",
      "Now processing doc_id= 20150318  ...\n",
      "Now processing doc_id= 20150617  ...\n",
      "Now processing doc_id= 20150917  ...\n",
      "Now processing doc_id= 20151216  ...\n",
      "Now processing doc_id= 20160316  ...\n",
      "Now processing doc_id= 20160615  ...\n",
      "Now processing doc_id= 20160921  ...\n",
      "Now processing doc_id= 20161214  ...\n",
      "Now processing doc_id= 20170315  ...\n",
      "Now processing doc_id= 20170614  ...\n",
      "Now processing doc_id= 20170920  ...\n",
      "Now processing doc_id= 20171213  ...\n",
      "Now processing doc_id= 20180321  ...\n",
      "Now processing doc_id= 20180613  ...\n",
      "Now processing doc_id= 20180926  ...\n",
      "Now processing doc_id= 20181219  ...\n",
      "Now processing doc_id= 20190320  ...\n",
      "Now processing doc_id= 20190619  ...\n",
      "Now processing doc_id= 20190918  ...\n",
      "Now processing doc_id= 20191211  ...\n",
      "Now processing doc_id= 20200610  ...\n",
      "Now processing doc_id= 20200916  ...\n"
     ]
    }
   ],
   "source": [
    "# Calculate similarites between pairs of documents\n",
    "simil_results    = []\n",
    "for docid in minutes.doc_id.unique():\n",
    "    print('Now processing doc_id=', docid,' ...')\n",
    "    sent_min = minutes[minutes.doc_id == docid].text\n",
    "    sent_sep = seps[seps.doc_id == docid].text\n",
    "    sent_beb = beigeb[beigeb.doc_id == docid].text\n",
    "    sent_mov = movies[movies.doc_id == docid].text\n",
    "    simil_res = calc_simil_docs(sent_min, sent_sep, sent_beb, sent_mov)\n",
    "    simil_results.append(simil_res)"
   ]
  },
  {
   "cell_type": "code",
   "execution_count": 57,
   "metadata": {},
   "outputs": [
    {
     "data": {
      "text/plain": [
       "array([0.568624  , 0.76125324, 0.20438963, 0.46379805, 0.41808504,\n",
       "       0.3054387 ], dtype=float32)"
      ]
     },
     "execution_count": 57,
     "metadata": {},
     "output_type": "execute_result"
    }
   ],
   "source": [
    "# The result is a nested list\n",
    "simil_results[0][1]"
   ]
  },
  {
   "cell_type": "code",
   "execution_count": 69,
   "metadata": {},
   "outputs": [],
   "source": [
    "# Separate lists to form pandas data frames\n",
    "cosine_similarity = []\n",
    "euclid_similarity = []\n",
    "pearsn_similarity = []\n",
    "for list in simil_results:\n",
    "    cosine_similarity.append(list[0])\n",
    "    euclid_similarity.append(list[1])\n",
    "    pearsn_similarity.append(list[2])"
   ]
  },
  {
   "cell_type": "code",
   "execution_count": 106,
   "metadata": {},
   "outputs": [],
   "source": [
    "df_cosine = pd.DataFrame(np.vstack(cosine_similarity), \n",
    "                         columns =['cosine_min_sep', 'cosine_min_beb', 'cosine_min_mov',\n",
    "                                   'cosine_sep_beb', 'cosine_sep_mov', 'cosine_beb_mov'])\n",
    "df_cosine.insert(loc = 0, column = 'doc_id', value = dates)\n",
    "df_euclid = pd.DataFrame(np.vstack(euclid_similarity), \n",
    "                         columns =['euclid_min_sep', 'euclid_min_beb', 'euclid_min_mov',\n",
    "                                   'euclid_sep_beb', 'euclid_sep_mov', 'euclid_beb_mov'])\n",
    "df_euclid.insert(loc = 0, column = 'doc_id', value = dates)\n",
    "df_pearsn = pd.DataFrame(np.vstack(cosine_similarity), \n",
    "                         columns =['pearsn_min_sep', 'pearsn_min_beb', 'pearsn_min_mov',\n",
    "                                   'pearsn_sep_beb', 'pearsn_sep_mov', 'pearsn_beb_mov'])\n",
    "df_pearsn.insert(loc = 0, column = 'doc_id', value = dates)"
   ]
  },
  {
   "cell_type": "code",
   "execution_count": 107,
   "metadata": {},
   "outputs": [
    {
     "data": {
      "text/html": [
       "<div>\n",
       "<style scoped>\n",
       "    .dataframe tbody tr th:only-of-type {\n",
       "        vertical-align: middle;\n",
       "    }\n",
       "\n",
       "    .dataframe tbody tr th {\n",
       "        vertical-align: top;\n",
       "    }\n",
       "\n",
       "    .dataframe thead th {\n",
       "        text-align: right;\n",
       "    }\n",
       "</style>\n",
       "<table border=\"1\" class=\"dataframe\">\n",
       "  <thead>\n",
       "    <tr style=\"text-align: right;\">\n",
       "      <th></th>\n",
       "      <th>doc_id</th>\n",
       "      <th>cosine_min_sep</th>\n",
       "      <th>cosine_min_beb</th>\n",
       "      <th>cosine_min_mov</th>\n",
       "      <th>cosine_sep_beb</th>\n",
       "      <th>cosine_sep_mov</th>\n",
       "      <th>cosine_beb_mov</th>\n",
       "    </tr>\n",
       "  </thead>\n",
       "  <tbody>\n",
       "    <tr>\n",
       "      <th>0</th>\n",
       "      <td>20071031</td>\n",
       "      <td>0.906957</td>\n",
       "      <td>0.879239</td>\n",
       "      <td>0.389516</td>\n",
       "      <td>0.807933</td>\n",
       "      <td>0.424077</td>\n",
       "      <td>0.491718</td>\n",
       "    </tr>\n",
       "    <tr>\n",
       "      <th>1</th>\n",
       "      <td>20080130</td>\n",
       "      <td>0.845563</td>\n",
       "      <td>0.804725</td>\n",
       "      <td>0.360337</td>\n",
       "      <td>0.713483</td>\n",
       "      <td>0.435084</td>\n",
       "      <td>0.523298</td>\n",
       "    </tr>\n",
       "    <tr>\n",
       "      <th>2</th>\n",
       "      <td>20080430</td>\n",
       "      <td>0.910424</td>\n",
       "      <td>0.781343</td>\n",
       "      <td>0.373560</td>\n",
       "      <td>0.732235</td>\n",
       "      <td>0.433129</td>\n",
       "      <td>0.500008</td>\n",
       "    </tr>\n",
       "    <tr>\n",
       "      <th>3</th>\n",
       "      <td>20080625</td>\n",
       "      <td>0.904183</td>\n",
       "      <td>0.711171</td>\n",
       "      <td>0.364949</td>\n",
       "      <td>0.672773</td>\n",
       "      <td>0.405577</td>\n",
       "      <td>0.518066</td>\n",
       "    </tr>\n",
       "    <tr>\n",
       "      <th>4</th>\n",
       "      <td>20081029</td>\n",
       "      <td>0.867250</td>\n",
       "      <td>0.810873</td>\n",
       "      <td>0.355808</td>\n",
       "      <td>0.702529</td>\n",
       "      <td>0.344487</td>\n",
       "      <td>0.468778</td>\n",
       "    </tr>\n",
       "  </tbody>\n",
       "</table>\n",
       "</div>"
      ],
      "text/plain": [
       "     doc_id  cosine_min_sep  cosine_min_beb  cosine_min_mov  cosine_sep_beb  \\\n",
       "0  20071031        0.906957        0.879239        0.389516        0.807933   \n",
       "1  20080130        0.845563        0.804725        0.360337        0.713483   \n",
       "2  20080430        0.910424        0.781343        0.373560        0.732235   \n",
       "3  20080625        0.904183        0.711171        0.364949        0.672773   \n",
       "4  20081029        0.867250        0.810873        0.355808        0.702529   \n",
       "\n",
       "   cosine_sep_mov  cosine_beb_mov  \n",
       "0        0.424077        0.491718  \n",
       "1        0.435084        0.523298  \n",
       "2        0.433129        0.500008  \n",
       "3        0.405577        0.518066  \n",
       "4        0.344487        0.468778  "
      ]
     },
     "execution_count": 107,
     "metadata": {},
     "output_type": "execute_result"
    }
   ],
   "source": [
    "df_cosine.head()"
   ]
  },
  {
   "cell_type": "code",
   "execution_count": 108,
   "metadata": {},
   "outputs": [
    {
     "data": {
      "text/html": [
       "<div>\n",
       "<style scoped>\n",
       "    .dataframe tbody tr th:only-of-type {\n",
       "        vertical-align: middle;\n",
       "    }\n",
       "\n",
       "    .dataframe tbody tr th {\n",
       "        vertical-align: top;\n",
       "    }\n",
       "\n",
       "    .dataframe thead th {\n",
       "        text-align: right;\n",
       "    }\n",
       "</style>\n",
       "<table border=\"1\" class=\"dataframe\">\n",
       "  <thead>\n",
       "    <tr style=\"text-align: right;\">\n",
       "      <th></th>\n",
       "      <th>doc_id</th>\n",
       "      <th>euclid_min_sep</th>\n",
       "      <th>euclid_min_beb</th>\n",
       "      <th>euclid_min_mov</th>\n",
       "      <th>euclid_sep_beb</th>\n",
       "      <th>euclid_sep_mov</th>\n",
       "      <th>euclid_beb_mov</th>\n",
       "    </tr>\n",
       "  </thead>\n",
       "  <tbody>\n",
       "    <tr>\n",
       "      <th>0</th>\n",
       "      <td>20071031</td>\n",
       "      <td>0.568624</td>\n",
       "      <td>0.761253</td>\n",
       "      <td>0.204390</td>\n",
       "      <td>0.463798</td>\n",
       "      <td>0.418085</td>\n",
       "      <td>0.305439</td>\n",
       "    </tr>\n",
       "    <tr>\n",
       "      <th>1</th>\n",
       "      <td>20080130</td>\n",
       "      <td>0.444236</td>\n",
       "      <td>0.776491</td>\n",
       "      <td>0.056053</td>\n",
       "      <td>0.345886</td>\n",
       "      <td>0.375968</td>\n",
       "      <td>0.120139</td>\n",
       "    </tr>\n",
       "    <tr>\n",
       "      <th>2</th>\n",
       "      <td>20080430</td>\n",
       "      <td>0.576736</td>\n",
       "      <td>0.820363</td>\n",
       "      <td>0.202950</td>\n",
       "      <td>0.506437</td>\n",
       "      <td>0.408283</td>\n",
       "      <td>0.288526</td>\n",
       "    </tr>\n",
       "    <tr>\n",
       "      <th>3</th>\n",
       "      <td>20080625</td>\n",
       "      <td>0.562240</td>\n",
       "      <td>0.779939</td>\n",
       "      <td>0.171446</td>\n",
       "      <td>0.468745</td>\n",
       "      <td>0.385853</td>\n",
       "      <td>0.270138</td>\n",
       "    </tr>\n",
       "    <tr>\n",
       "      <th>4</th>\n",
       "      <td>20081029</td>\n",
       "      <td>0.484733</td>\n",
       "      <td>0.743482</td>\n",
       "      <td>0.059628</td>\n",
       "      <td>0.368013</td>\n",
       "      <td>0.334990</td>\n",
       "      <td>0.150104</td>\n",
       "    </tr>\n",
       "  </tbody>\n",
       "</table>\n",
       "</div>"
      ],
      "text/plain": [
       "     doc_id  euclid_min_sep  euclid_min_beb  euclid_min_mov  euclid_sep_beb  \\\n",
       "0  20071031        0.568624        0.761253        0.204390        0.463798   \n",
       "1  20080130        0.444236        0.776491        0.056053        0.345886   \n",
       "2  20080430        0.576736        0.820363        0.202950        0.506437   \n",
       "3  20080625        0.562240        0.779939        0.171446        0.468745   \n",
       "4  20081029        0.484733        0.743482        0.059628        0.368013   \n",
       "\n",
       "   euclid_sep_mov  euclid_beb_mov  \n",
       "0        0.418085        0.305439  \n",
       "1        0.375968        0.120139  \n",
       "2        0.408283        0.288526  \n",
       "3        0.385853        0.270138  \n",
       "4        0.334990        0.150104  "
      ]
     },
     "execution_count": 108,
     "metadata": {},
     "output_type": "execute_result"
    }
   ],
   "source": [
    "df_euclid.head()"
   ]
  },
  {
   "cell_type": "code",
   "execution_count": 109,
   "metadata": {},
   "outputs": [
    {
     "data": {
      "text/html": [
       "<div>\n",
       "<style scoped>\n",
       "    .dataframe tbody tr th:only-of-type {\n",
       "        vertical-align: middle;\n",
       "    }\n",
       "\n",
       "    .dataframe tbody tr th {\n",
       "        vertical-align: top;\n",
       "    }\n",
       "\n",
       "    .dataframe thead th {\n",
       "        text-align: right;\n",
       "    }\n",
       "</style>\n",
       "<table border=\"1\" class=\"dataframe\">\n",
       "  <thead>\n",
       "    <tr style=\"text-align: right;\">\n",
       "      <th></th>\n",
       "      <th>doc_id</th>\n",
       "      <th>pearsn_min_sep</th>\n",
       "      <th>pearsn_min_beb</th>\n",
       "      <th>pearsn_min_mov</th>\n",
       "      <th>pearsn_sep_beb</th>\n",
       "      <th>pearsn_sep_mov</th>\n",
       "      <th>pearsn_beb_mov</th>\n",
       "    </tr>\n",
       "  </thead>\n",
       "  <tbody>\n",
       "    <tr>\n",
       "      <th>0</th>\n",
       "      <td>20071031</td>\n",
       "      <td>0.906957</td>\n",
       "      <td>0.879239</td>\n",
       "      <td>0.389516</td>\n",
       "      <td>0.807933</td>\n",
       "      <td>0.424077</td>\n",
       "      <td>0.491718</td>\n",
       "    </tr>\n",
       "    <tr>\n",
       "      <th>1</th>\n",
       "      <td>20080130</td>\n",
       "      <td>0.845563</td>\n",
       "      <td>0.804725</td>\n",
       "      <td>0.360337</td>\n",
       "      <td>0.713483</td>\n",
       "      <td>0.435084</td>\n",
       "      <td>0.523298</td>\n",
       "    </tr>\n",
       "    <tr>\n",
       "      <th>2</th>\n",
       "      <td>20080430</td>\n",
       "      <td>0.910424</td>\n",
       "      <td>0.781343</td>\n",
       "      <td>0.373560</td>\n",
       "      <td>0.732235</td>\n",
       "      <td>0.433129</td>\n",
       "      <td>0.500008</td>\n",
       "    </tr>\n",
       "    <tr>\n",
       "      <th>3</th>\n",
       "      <td>20080625</td>\n",
       "      <td>0.904183</td>\n",
       "      <td>0.711171</td>\n",
       "      <td>0.364949</td>\n",
       "      <td>0.672773</td>\n",
       "      <td>0.405577</td>\n",
       "      <td>0.518066</td>\n",
       "    </tr>\n",
       "    <tr>\n",
       "      <th>4</th>\n",
       "      <td>20081029</td>\n",
       "      <td>0.867250</td>\n",
       "      <td>0.810873</td>\n",
       "      <td>0.355808</td>\n",
       "      <td>0.702529</td>\n",
       "      <td>0.344487</td>\n",
       "      <td>0.468778</td>\n",
       "    </tr>\n",
       "  </tbody>\n",
       "</table>\n",
       "</div>"
      ],
      "text/plain": [
       "     doc_id  pearsn_min_sep  pearsn_min_beb  pearsn_min_mov  pearsn_sep_beb  \\\n",
       "0  20071031        0.906957        0.879239        0.389516        0.807933   \n",
       "1  20080130        0.845563        0.804725        0.360337        0.713483   \n",
       "2  20080430        0.910424        0.781343        0.373560        0.732235   \n",
       "3  20080625        0.904183        0.711171        0.364949        0.672773   \n",
       "4  20081029        0.867250        0.810873        0.355808        0.702529   \n",
       "\n",
       "   pearsn_sep_mov  pearsn_beb_mov  \n",
       "0        0.424077        0.491718  \n",
       "1        0.435084        0.523298  \n",
       "2        0.433129        0.500008  \n",
       "3        0.405577        0.518066  \n",
       "4        0.344487        0.468778  "
      ]
     },
     "execution_count": 109,
     "metadata": {},
     "output_type": "execute_result"
    }
   ],
   "source": [
    "df_pearsn.head()"
   ]
  },
  {
   "cell_type": "code",
   "execution_count": 110,
   "metadata": {},
   "outputs": [
    {
     "data": {
      "image/png": "[encoded data removed]",
      "text/plain": [
       "<Figure size 432x288 with 1 Axes>"
      ]
     },
     "metadata": {
      "needs_background": "light"
     },
     "output_type": "display_data"
    }
   ],
   "source": [
    "df_cosine.plot(x = \"doc_id\")\n",
    "plt.show()"
   ]
  },
  {
   "cell_type": "code",
   "execution_count": 111,
   "metadata": {},
   "outputs": [
    {
     "data": {
      "image/png": "[encoded data removed]",
      "text/plain": [
       "<Figure size 432x288 with 1 Axes>"
      ]
     },
     "metadata": {
      "needs_background": "light"
     },
     "output_type": "display_data"
    }
   ],
   "source": [
    "df_euclid.plot(x = \"doc_id\")\n",
    "plt.show()"
   ]
  },
  {
   "cell_type": "code",
   "execution_count": 112,
   "metadata": {},
   "outputs": [
    {
     "data": {
      "image/png": "[encoded data removed]",
      "text/plain": [
       "<Figure size 432x288 with 1 Axes>"
      ]
     },
     "metadata": {
      "needs_background": "light"
     },
     "output_type": "display_data"
    }
   ],
   "source": [
    "df_pearsn.plot(x = \"doc_id\")\n",
    "plt.show()"
   ]
  },
  {
   "cell_type": "code",
   "execution_count": 113,
   "metadata": {},
   "outputs": [],
   "source": [
    "# Write data for R\n",
    "df_cosine.to_pickle('../data/data-gen/df_cosine.p')\n",
    "df_euclid.to_pickle('../data/data-gen/df_euclid.p')\n",
    "df_pearsn.to_pickle('../data/data-gen/df_pearsn.p')"
   ]
  },
  {
   "cell_type": "code",
   "execution_count": null,
   "metadata": {},
   "outputs": [],
   "source": []
  },
  {
   "cell_type": "code",
   "execution_count": null,
   "metadata": {},
   "outputs": [],
   "source": []
  }
 ],
 "metadata": {
  "kernelspec": {
   "display_name": "gcloud",
   "language": "python",
   "name": "gcloud"
  },
  "language_info": {
   "codemirror_mode": {
    "name": "ipython",
    "version": 3
   },
   "file_extension": ".py",
   "mimetype": "text/x-python",
   "name": "python",
   "nbconvert_exporter": "python",
   "pygments_lexer": "ipython3",
   "version": "3.7.1"
  }
 },
 "nbformat": 4,
 "nbformat_minor": 2
}
