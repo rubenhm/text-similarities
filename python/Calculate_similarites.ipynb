{
 "cells": [
  {
   "cell_type": "code",
   "execution_count": 163,
   "metadata": {},
   "outputs": [],
   "source": [
    "# Import libraries\n",
    "import os\n",
    "import re\n",
    "import io\n",
    "import sys\n",
    "import pandas as pd\n",
    "import numpy as np\n",
    "import pickle\n",
    "import torch\n",
    "import matplotlib.pyplot as plt\n",
    "%matplotlib inline\n",
    "from sentence_transformers import SentenceTransformer, util\n",
    "from sklearn.metrics.pairwise import cosine_similarity"
   ]
  },
  {
   "cell_type": "code",
   "execution_count": 165,
   "metadata": {},
   "outputs": [],
   "source": [
    "# Read data\n",
    "minutes = pd.read_pickle('../data/data-gen/sent_minutes.p')\n",
    "seps    = pd.read_pickle('../data/data-gen/sent_seps.p')\n",
    "beigeb  = pd.read_pickle('../data/data-gen/sent_beigebook.p')"
   ]
  },
  {
   "cell_type": "code",
   "execution_count": 166,
   "metadata": {},
   "outputs": [
    {
     "name": "stdout",
     "output_type": "stream",
     "text": [
      "(4389, 3)\n"
     ]
    },
    {
     "data": {
      "text/html": [
       "<div>\n",
       "<style scoped>\n",
       "    .dataframe tbody tr th:only-of-type {\n",
       "        vertical-align: middle;\n",
       "    }\n",
       "\n",
       "    .dataframe tbody tr th {\n",
       "        vertical-align: top;\n",
       "    }\n",
       "\n",
       "    .dataframe thead th {\n",
       "        text-align: right;\n",
       "    }\n",
       "</style>\n",
       "<table border=\"1\" class=\"dataframe\">\n",
       "  <thead>\n",
       "    <tr style=\"text-align: right;\">\n",
       "      <th></th>\n",
       "      <th>doc_id</th>\n",
       "      <th>sentence_id</th>\n",
       "      <th>text</th>\n",
       "    </tr>\n",
       "  </thead>\n",
       "  <tbody>\n",
       "    <tr>\n",
       "      <th>0</th>\n",
       "      <td>20071031</td>\n",
       "      <td>1</td>\n",
       "      <td>conjunction fomc meeting october meeting parti...</td>\n",
       "    </tr>\n",
       "    <tr>\n",
       "      <th>1</th>\n",
       "      <td>20071031</td>\n",
       "      <td>2</td>\n",
       "      <td>projec tions summary economic projections atta...</td>\n",
       "    </tr>\n",
       "    <tr>\n",
       "      <th>2</th>\n",
       "      <td>20071031</td>\n",
       "      <td>3</td>\n",
       "      <td>discussion economic outlook situa tion project...</td>\n",
       "    </tr>\n",
       "    <tr>\n",
       "      <th>3</th>\n",
       "      <td>20071031</td>\n",
       "      <td>4</td>\n",
       "      <td>conditions financial markets improved septembe...</td>\n",
       "    </tr>\n",
       "    <tr>\n",
       "      <th>4</th>\n",
       "      <td>20071031</td>\n",
       "      <td>5</td>\n",
       "      <td>easing monetary policy participants expected e...</td>\n",
       "    </tr>\n",
       "  </tbody>\n",
       "</table>\n",
       "</div>"
      ],
      "text/plain": [
       "     doc_id  sentence_id                                               text\n",
       "0  20071031            1  conjunction fomc meeting october meeting parti...\n",
       "1  20071031            2  projec tions summary economic projections atta...\n",
       "2  20071031            3  discussion economic outlook situa tion project...\n",
       "3  20071031            4  conditions financial markets improved septembe...\n",
       "4  20071031            5  easing monetary policy participants expected e..."
      ]
     },
     "execution_count": 166,
     "metadata": {},
     "output_type": "execute_result"
    }
   ],
   "source": [
    "print(minutes.shape)\n",
    "minutes.head()"
   ]
  },
  {
   "cell_type": "code",
   "execution_count": 167,
   "metadata": {},
   "outputs": [
    {
     "name": "stdout",
     "output_type": "stream",
     "text": [
      "(4520, 3)\n"
     ]
    },
    {
     "data": {
      "text/html": [
       "<div>\n",
       "<style scoped>\n",
       "    .dataframe tbody tr th:only-of-type {\n",
       "        vertical-align: middle;\n",
       "    }\n",
       "\n",
       "    .dataframe tbody tr th {\n",
       "        vertical-align: top;\n",
       "    }\n",
       "\n",
       "    .dataframe thead th {\n",
       "        text-align: right;\n",
       "    }\n",
       "</style>\n",
       "<table border=\"1\" class=\"dataframe\">\n",
       "  <thead>\n",
       "    <tr style=\"text-align: right;\">\n",
       "      <th></th>\n",
       "      <th>doc_id</th>\n",
       "      <th>sentence_id</th>\n",
       "      <th>text</th>\n",
       "    </tr>\n",
       "  </thead>\n",
       "  <tbody>\n",
       "    <tr>\n",
       "      <th>0</th>\n",
       "      <td>20071031</td>\n",
       "      <td>1</td>\n",
       "      <td>summary economic projections conjunction octob...</td>\n",
       "    </tr>\n",
       "    <tr>\n",
       "      <th>1</th>\n",
       "      <td>20071031</td>\n",
       "      <td>2</td>\n",
       "      <td>projections based information con clusion octo...</td>\n",
       "    </tr>\n",
       "    <tr>\n",
       "      <th>2</th>\n",
       "      <td>20071031</td>\n",
       "      <td>3</td>\n",
       "      <td>monetary policy defined future policy foster o...</td>\n",
       "    </tr>\n",
       "    <tr>\n",
       "      <th>3</th>\n",
       "      <td>20071031</td>\n",
       "      <td>4</td>\n",
       "      <td>projections summarized table chart suggest fom...</td>\n",
       "    </tr>\n",
       "    <tr>\n",
       "      <th>4</th>\n",
       "      <td>20071031</td>\n",
       "      <td>5</td>\n",
       "      <td>ahead output projected expand pace close run t...</td>\n",
       "    </tr>\n",
       "  </tbody>\n",
       "</table>\n",
       "</div>"
      ],
      "text/plain": [
       "     doc_id  sentence_id                                               text\n",
       "0  20071031            1  summary economic projections conjunction octob...\n",
       "1  20071031            2  projections based information con clusion octo...\n",
       "2  20071031            3  monetary policy defined future policy foster o...\n",
       "3  20071031            4  projections summarized table chart suggest fom...\n",
       "4  20071031            5  ahead output projected expand pace close run t..."
      ]
     },
     "execution_count": 167,
     "metadata": {},
     "output_type": "execute_result"
    }
   ],
   "source": [
    "print(seps.shape)\n",
    "seps.head()"
   ]
  },
  {
   "cell_type": "code",
   "execution_count": 168,
   "metadata": {},
   "outputs": [
    {
     "name": "stdout",
     "output_type": "stream",
     "text": [
      "(6345, 3)\n"
     ]
    },
    {
     "data": {
      "text/html": [
       "<div>\n",
       "<style scoped>\n",
       "    .dataframe tbody tr th:only-of-type {\n",
       "        vertical-align: middle;\n",
       "    }\n",
       "\n",
       "    .dataframe tbody tr th {\n",
       "        vertical-align: top;\n",
       "    }\n",
       "\n",
       "    .dataframe thead th {\n",
       "        text-align: right;\n",
       "    }\n",
       "</style>\n",
       "<table border=\"1\" class=\"dataframe\">\n",
       "  <thead>\n",
       "    <tr style=\"text-align: right;\">\n",
       "      <th></th>\n",
       "      <th>doc_id</th>\n",
       "      <th>sentence_id</th>\n",
       "      <th>text</th>\n",
       "    </tr>\n",
       "  </thead>\n",
       "  <tbody>\n",
       "    <tr>\n",
       "      <th>0</th>\n",
       "      <td>20071031</td>\n",
       "      <td>1</td>\n",
       "      <td>beige book national summary october anecdotal ...</td>\n",
       "    </tr>\n",
       "    <tr>\n",
       "      <th>1</th>\n",
       "      <td>20071031</td>\n",
       "      <td>2</td>\n",
       "      <td>growth similar observed beige book districts a...</td>\n",
       "    </tr>\n",
       "    <tr>\n",
       "      <th>2</th>\n",
       "      <td>20071031</td>\n",
       "      <td>3</td>\n",
       "      <td>louis</td>\n",
       "    </tr>\n",
       "    <tr>\n",
       "      <th>3</th>\n",
       "      <td>20071031</td>\n",
       "      <td>4</td>\n",
       "      <td>economy grew slower rate districts cleveland d...</td>\n",
       "    </tr>\n",
       "    <tr>\n",
       "      <th>4</th>\n",
       "      <td>20071031</td>\n",
       "      <td>5</td>\n",
       "      <td>expansion variously characterized moderate mod...</td>\n",
       "    </tr>\n",
       "  </tbody>\n",
       "</table>\n",
       "</div>"
      ],
      "text/plain": [
       "     doc_id  sentence_id                                               text\n",
       "0  20071031            1  beige book national summary october anecdotal ...\n",
       "1  20071031            2  growth similar observed beige book districts a...\n",
       "2  20071031            3                                              louis\n",
       "3  20071031            4  economy grew slower rate districts cleveland d...\n",
       "4  20071031            5  expansion variously characterized moderate mod..."
      ]
     },
     "execution_count": 168,
     "metadata": {},
     "output_type": "execute_result"
    }
   ],
   "source": [
    "print(beigeb.shape)\n",
    "beigeb.head()"
   ]
  },
  {
   "cell_type": "code",
   "execution_count": 5,
   "metadata": {},
   "outputs": [],
   "source": [
    "model = SentenceTransformer('c:/Users/d1rxh02/Downloads/rfolder/SentenceTransformers/roberta-large-nli-stsb-means-tokens', device = 'cuda' )"
   ]
  },
  {
   "cell_type": "code",
   "execution_count": 171,
   "metadata": {},
   "outputs": [
    {
     "name": "stdout",
     "output_type": "stream",
     "text": [
      "(67,)\n",
      "(56,)\n"
     ]
    }
   ],
   "source": [
    "# example\n",
    "sentences1 = minutes[minutes.doc_id=='20080130'].text\n",
    "sentences2 = seps[seps.doc_id=='20080130'].text\n",
    "print(sentences1.shape)\n",
    "print(sentences2.shape)"
   ]
  },
  {
   "cell_type": "code",
   "execution_count": 172,
   "metadata": {},
   "outputs": [],
   "source": [
    "# Have to reset the index or an error pops up\n",
    "sentences1 = sentences1.reset_index()\n",
    "sentences2 = sentences2.reset_index()"
   ]
  },
  {
   "cell_type": "code",
   "execution_count": 174,
   "metadata": {},
   "outputs": [],
   "source": [
    "# Compute embeddings for both lists\n",
    "# The result is a list of vectors, one for each sentence\n",
    "embeddings1 = model.encode(sentences1.text, convert_to_tensor=True)\n",
    "embeddings2 = model.encode(sentences2.text, convert_to_tensor=True)"
   ]
  },
  {
   "cell_type": "code",
   "execution_count": 175,
   "metadata": {},
   "outputs": [
    {
     "data": {
      "text/plain": [
       "torch.Tensor"
      ]
     },
     "execution_count": 175,
     "metadata": {},
     "output_type": "execute_result"
    }
   ],
   "source": [
    "type(embeddings1)"
   ]
  },
  {
   "cell_type": "code",
   "execution_count": 176,
   "metadata": {},
   "outputs": [
    {
     "data": {
      "text/plain": [
       "torch.Size([56, 1024])"
      ]
     },
     "execution_count": 176,
     "metadata": {},
     "output_type": "execute_result"
    }
   ],
   "source": [
    "embeddings1.shape\n",
    "embeddings2.shape"
   ]
  },
  {
   "cell_type": "code",
   "execution_count": 177,
   "metadata": {},
   "outputs": [],
   "source": [
    "# Compute cosine-similarities\n",
    "# This calculates the similarities between all pairs of vectors\n",
    "cosine_scores = util.pytorch_cos_sim(embeddings1, embeddings2)"
   ]
  },
  {
   "cell_type": "code",
   "execution_count": 178,
   "metadata": {},
   "outputs": [
    {
     "data": {
      "text/plain": [
       "torch.Size([67, 56])"
      ]
     },
     "execution_count": 178,
     "metadata": {},
     "output_type": "execute_result"
    }
   ],
   "source": [
    "cosine_scores.shape"
   ]
  },
  {
   "cell_type": "code",
   "execution_count": 180,
   "metadata": {},
   "outputs": [
    {
     "data": {
      "text/plain": [
       "tensor([[0.9024, 0.7340, 0.5987,  ..., 0.4959, 0.3602, 0.5570],\n",
       "        [0.3936, 0.4746, 0.4435,  ..., 0.4256, 0.3156, 0.4018],\n",
       "        [0.5028, 0.5167, 0.2500,  ..., 0.3385, 0.3395, 0.2817],\n",
       "        ...,\n",
       "        [0.5282, 0.4829, 0.5473,  ..., 0.5658, 0.5898, 0.5626],\n",
       "        [0.2224, 0.3900, 0.4823,  ..., 0.4953, 0.3920, 0.3966],\n",
       "        [0.4481, 0.4789, 0.4873,  ..., 0.5254, 0.4351, 0.4270]],\n",
       "       device='cuda:0')"
      ]
     },
     "execution_count": 180,
     "metadata": {},
     "output_type": "execute_result"
    }
   ],
   "source": [
    "# This is 2-dim array of cross-pairs\n",
    "cosine_scores"
   ]
  },
  {
   "cell_type": "code",
   "execution_count": 181,
   "metadata": {},
   "outputs": [],
   "source": [
    "# Calculate average of embeddings\n",
    "# This provides one vector per document\n",
    "# Alternatively, calculate sum\n",
    "embedding_1 = torch.mean(embeddings1, dim = 0)\n",
    "embedding_2 = torch.mean(embeddings2, dim = 0)"
   ]
  },
  {
   "cell_type": "code",
   "execution_count": 182,
   "metadata": {},
   "outputs": [
    {
     "name": "stdout",
     "output_type": "stream",
     "text": [
      "tensor(0.8456, device='cuda:0')\n"
     ]
    }
   ],
   "source": [
    "# Calculate cosine similarity\n",
    "# This returns a scalar measure\n",
    "cos_sim = torch.nn.CosineSimilarity(dim = 0)\n",
    "result = cos_sim(embedding_1, embedding_2)\n",
    "print(result)"
   ]
  },
  {
   "cell_type": "code",
   "execution_count": 184,
   "metadata": {},
   "outputs": [],
   "source": [
    "def calc_simil_docs(doc1, doc2):\n",
    "    # Calculates cosine similarity of a pair of documents\n",
    "    # Each document is a series of sentences\n",
    "    \n",
    "    # Calculate embeddings by averaging the individual sentence embeddings\n",
    "#     embeddings1 = []\n",
    "#     for i in range(0, doc1.count()):\n",
    "#         emb = model.encode(doc1.iloc[i], convert_to_tensor=True)\n",
    "#         embeddings1.append(emb)\n",
    "#     embeddings2 = []\n",
    "#     for i in range(0, doc2.count()):\n",
    "#         emb = model.encode(doc2.iloc[i], convert_to_tensor=True)\n",
    "#         embeddings2.append(emb)\n",
    "        \n",
    "    # Calculate embeddings of all sentences at once\n",
    "    embeddings1 = model.encode(doc1.reset_index(drop = True), convert_to_tensor=True)\n",
    "    embeddings2 = model.encode(doc2.reset_index(drop = True), convert_to_tensor=True)\n",
    "        \n",
    "    \n",
    "    # Average embeddings of each document to have \n",
    "    # a single tensor per document\n",
    "#     embedding_1 = torch.mean(torch.stack(embeddings1), dim = 0)\n",
    "#     embedding_2 = torch.mean(torch.stack(embeddings2), dim = 0)\n",
    "    embedding_1 = torch.mean(embeddings1, dim = 0)\n",
    "    embedding_2 = torch.mean(embeddings2, dim = 0)\n",
    "\n",
    "    \n",
    "    # Calculate cosine similarity between the two tensors\n",
    "    cos_sim = torch.nn.CosineSimilarity(dim = 0)\n",
    "    result = cos_sim(embedding_1, embedding_2)\n",
    "    return result"
   ]
  },
  {
   "cell_type": "code",
   "execution_count": 185,
   "metadata": {},
   "outputs": [
    {
     "name": "stdout",
     "output_type": "stream",
     "text": [
      "Now processing doc_id= 20071031  ...\n",
      "Now processing doc_id= 20080130  ...\n",
      "Now processing doc_id= 20080430  ...\n",
      "Now processing doc_id= 20080625  ...\n",
      "Now processing doc_id= 20081029  ...\n",
      "Now processing doc_id= 20090128  ...\n",
      "Now processing doc_id= 20090429  ...\n",
      "Now processing doc_id= 20090624  ...\n",
      "Now processing doc_id= 20091104  ...\n",
      "Now processing doc_id= 20100127  ...\n",
      "Now processing doc_id= 20100428  ...\n",
      "Now processing doc_id= 20100623  ...\n",
      "Now processing doc_id= 20101103  ...\n",
      "Now processing doc_id= 20110126  ...\n",
      "Now processing doc_id= 20110427  ...\n",
      "Now processing doc_id= 20110622  ...\n",
      "Now processing doc_id= 20111102  ...\n",
      "Now processing doc_id= 20120125  ...\n",
      "Now processing doc_id= 20120425  ...\n",
      "Now processing doc_id= 20120620  ...\n",
      "Now processing doc_id= 20120913  ...\n",
      "Now processing doc_id= 20121212  ...\n",
      "Now processing doc_id= 20130320  ...\n",
      "Now processing doc_id= 20130619  ...\n",
      "Now processing doc_id= 20130918  ...\n",
      "Now processing doc_id= 20131218  ...\n",
      "Now processing doc_id= 20140319  ...\n",
      "Now processing doc_id= 20140618  ...\n",
      "Now processing doc_id= 20140917  ...\n",
      "Now processing doc_id= 20141217  ...\n",
      "Now processing doc_id= 20150318  ...\n",
      "Now processing doc_id= 20150617  ...\n",
      "Now processing doc_id= 20150917  ...\n",
      "Now processing doc_id= 20151216  ...\n",
      "Now processing doc_id= 20160316  ...\n",
      "Now processing doc_id= 20160615  ...\n",
      "Now processing doc_id= 20160921  ...\n",
      "Now processing doc_id= 20161214  ...\n",
      "Now processing doc_id= 20170315  ...\n",
      "Now processing doc_id= 20170614  ...\n",
      "Now processing doc_id= 20170920  ...\n",
      "Now processing doc_id= 20171213  ...\n",
      "Now processing doc_id= 20180321  ...\n",
      "Now processing doc_id= 20180613  ...\n",
      "Now processing doc_id= 20180926  ...\n",
      "Now processing doc_id= 20181219  ...\n",
      "Now processing doc_id= 20190320  ...\n",
      "Now processing doc_id= 20190619  ...\n",
      "Now processing doc_id= 20190918  ...\n",
      "Now processing doc_id= 20191211  ...\n",
      "Now processing doc_id= 20200610  ...\n",
      "Now processing doc_id= 20200916  ...\n"
     ]
    }
   ],
   "source": [
    "# Calculate similarites between all the pairs of documents\n",
    "simil_minutes_sep = []\n",
    "simil_minutes_bb  = []\n",
    "simil_seps_bb     = []\n",
    "for docid in minutes.doc_id.unique():\n",
    "    print('Now processing doc_id=', docid,' ...')\n",
    "    sentences1 = minutes[minutes.doc_id == docid].text\n",
    "    sentences2 = seps[seps.doc_id == docid].text\n",
    "    sentences3 = beigeb[beigeb.doc_id == docid].text\n",
    "    cs_ms = calc_simil_docs(sentences1, sentences2)\n",
    "    cs_mb = calc_simil_docs(sentences1, sentences3)\n",
    "    cs_sb = calc_simil_docs(sentences2, sentences3)\n",
    "    simil_minutes_sep.append(cs_ms)\n",
    "    simil_minutes_bb.append(cs_mb)\n",
    "    simil_seps_bb.append(cs_sb)"
   ]
  },
  {
   "cell_type": "code",
   "execution_count": 186,
   "metadata": {},
   "outputs": [
    {
     "name": "stdout",
     "output_type": "stream",
     "text": [
      "<class 'list'>\n",
      "tensor(0.9070, device='cuda:0')\n"
     ]
    }
   ],
   "source": [
    "print( type(simil_minutes_sep) )\n",
    "print(simil_minutes_sep[0])"
   ]
  },
  {
   "cell_type": "code",
   "execution_count": 187,
   "metadata": {},
   "outputs": [],
   "source": [
    "simil_minutes_sep_series = torch.stack(simil_minutes_sep)\n",
    "simil_minutes_bb_series  = torch.stack(simil_minutes_bb)\n",
    "simil_seps_bb_series     = torch.stack(simil_seps_bb)"
   ]
  },
  {
   "cell_type": "code",
   "execution_count": 188,
   "metadata": {},
   "outputs": [
    {
     "data": {
      "text/plain": [
       "torch.Tensor"
      ]
     },
     "execution_count": 188,
     "metadata": {},
     "output_type": "execute_result"
    }
   ],
   "source": [
    "type(simil_minutes_sep_series)"
   ]
  },
  {
   "cell_type": "code",
   "execution_count": 189,
   "metadata": {},
   "outputs": [
    {
     "data": {
      "text/plain": [
       "tensor([0.9070, 0.8456, 0.9104, 0.9042, 0.8672, 0.8411, 0.8737, 0.8596, 0.8789,\n",
       "        0.9038, 0.8955, 0.9380, 0.8780, 0.9183, 0.8812, 0.8930, 0.8687, 0.9141,\n",
       "        0.9157, 0.8793, 0.8727, 0.8726, 0.8627, 0.8629, 0.8624, 0.8687, 0.9001,\n",
       "        0.8746, 0.9095, 0.8803, 0.8756, 0.8707, 0.8785, 0.8827, 0.8645, 0.8794,\n",
       "        0.8723, 0.8919, 0.8638, 0.8609, 0.8078, 0.8353, 0.8449, 0.8644, 0.8467,\n",
       "        0.8076, 0.8225, 0.8237, 0.8329, 0.8074, 0.7763, 0.8282],\n",
       "       device='cuda:0')"
      ]
     },
     "execution_count": 189,
     "metadata": {},
     "output_type": "execute_result"
    }
   ],
   "source": [
    "simil_minutes_sep_series"
   ]
  },
  {
   "cell_type": "code",
   "execution_count": 214,
   "metadata": {},
   "outputs": [
    {
     "name": "stdout",
     "output_type": "stream",
     "text": [
      "<class 'numpy.ndarray'>\n",
      "<class 'torch.Tensor'>\n"
     ]
    },
    {
     "data": {
      "text/plain": [
       "(52,)"
      ]
     },
     "execution_count": 214,
     "metadata": {},
     "output_type": "execute_result"
    }
   ],
   "source": [
    "print(type(simil_minutes_sep_series.cpu().numpy()))\n",
    "print(type(simil_minutes_sep_series.cpu()))\n",
    "simil_minutes_sep_series.cpu().numpy().T.shape"
   ]
  },
  {
   "cell_type": "code",
   "execution_count": null,
   "metadata": {},
   "outputs": [],
   "source": []
  },
  {
   "cell_type": "code",
   "execution_count": 190,
   "metadata": {},
   "outputs": [
    {
     "data": {
      "text/plain": [
       "[<matplotlib.lines.Line2D at 0x15400224160>]"
      ]
     },
     "execution_count": 190,
     "metadata": {},
     "output_type": "execute_result"
    },
    {
     "data": {
      "image/png": "[encoded data removed]",
      "text/plain": [
       "<Figure size 432x288 with 1 Axes>"
      ]
     },
     "metadata": {
      "needs_background": "light"
     },
     "output_type": "display_data"
    }
   ],
   "source": [
    "plt.plot(simil_minutes_sep_series.cpu().numpy())"
   ]
  },
  {
   "cell_type": "code",
   "execution_count": 191,
   "metadata": {},
   "outputs": [
    {
     "data": {
      "text/plain": [
       "[<matplotlib.lines.Line2D at 0x1540015cdd8>]"
      ]
     },
     "execution_count": 191,
     "metadata": {},
     "output_type": "execute_result"
    },
    {
     "data": {
      "image/png": "[encoded data removed]",
      "text/plain": [
       "<Figure size 432x288 with 1 Axes>"
      ]
     },
     "metadata": {
      "needs_background": "light"
     },
     "output_type": "display_data"
    }
   ],
   "source": [
    "plt.plot(simil_minutes_bb_series.cpu().numpy())"
   ]
  },
  {
   "cell_type": "code",
   "execution_count": 192,
   "metadata": {},
   "outputs": [
    {
     "data": {
      "text/plain": [
       "[<matplotlib.lines.Line2D at 0x15400b2e9e8>]"
      ]
     },
     "execution_count": 192,
     "metadata": {},
     "output_type": "execute_result"
    },
    {
     "data": {
      "image/png": "[encoded data removed]",
      "text/plain": [
       "<Figure size 432x288 with 1 Axes>"
      ]
     },
     "metadata": {
      "needs_background": "light"
     },
     "output_type": "display_data"
    }
   ],
   "source": [
    "plt.plot(simil_seps_bb_series.cpu().numpy())"
   ]
  },
  {
   "cell_type": "code",
   "execution_count": 216,
   "metadata": {},
   "outputs": [],
   "source": [
    "\n",
    "df_simil_seps_bb_series = pd.DataFrame([[simil_minutes_sep_series.cpu().numpy().T, simil_minutes_bb_series.cpu().numpy().T, simil_seps_bb_series.cpu().numpy().T]], \n",
    "                                       )"
   ]
  },
  {
   "cell_type": "code",
   "execution_count": 247,
   "metadata": {},
   "outputs": [],
   "source": [
    "# Form array with unique values of dates\n",
    "dates = minutes.doc_id.unique()"
   ]
  },
  {
   "cell_type": "code",
   "execution_count": 248,
   "metadata": {},
   "outputs": [],
   "source": [
    "# Convert data to pandas dataframe\n",
    "# Form a numpy array, will need to transpose\n",
    "data = np.array([dates, simil_minutes_sep_series.cpu().numpy(),simil_minutes_bb_series.cpu().numpy(),simil_seps_bb_series.cpu().numpy()])\n",
    "df_simil = pd.DataFrame(data.T, columns = ['doc_id','simil_min_sep', 'simil_min_bb', 'simil_sep_bb'])"
   ]
  },
  {
   "cell_type": "code",
   "execution_count": 250,
   "metadata": {},
   "outputs": [
    {
     "data": {
      "text/html": [
       "<div>\n",
       "<style scoped>\n",
       "    .dataframe tbody tr th:only-of-type {\n",
       "        vertical-align: middle;\n",
       "    }\n",
       "\n",
       "    .dataframe tbody tr th {\n",
       "        vertical-align: top;\n",
       "    }\n",
       "\n",
       "    .dataframe thead th {\n",
       "        text-align: right;\n",
       "    }\n",
       "</style>\n",
       "<table border=\"1\" class=\"dataframe\">\n",
       "  <thead>\n",
       "    <tr style=\"text-align: right;\">\n",
       "      <th></th>\n",
       "      <th>doc_id</th>\n",
       "      <th>simil_min_sep</th>\n",
       "      <th>simil_min_bb</th>\n",
       "      <th>simil_sep_bb</th>\n",
       "    </tr>\n",
       "  </thead>\n",
       "  <tbody>\n",
       "    <tr>\n",
       "      <th>0</th>\n",
       "      <td>20071031</td>\n",
       "      <td>0.906957</td>\n",
       "      <td>0.879239</td>\n",
       "      <td>0.807933</td>\n",
       "    </tr>\n",
       "    <tr>\n",
       "      <th>1</th>\n",
       "      <td>20080130</td>\n",
       "      <td>0.845563</td>\n",
       "      <td>0.804725</td>\n",
       "      <td>0.713483</td>\n",
       "    </tr>\n",
       "    <tr>\n",
       "      <th>2</th>\n",
       "      <td>20080430</td>\n",
       "      <td>0.910424</td>\n",
       "      <td>0.781343</td>\n",
       "      <td>0.732235</td>\n",
       "    </tr>\n",
       "    <tr>\n",
       "      <th>3</th>\n",
       "      <td>20080625</td>\n",
       "      <td>0.904183</td>\n",
       "      <td>0.711171</td>\n",
       "      <td>0.672773</td>\n",
       "    </tr>\n",
       "    <tr>\n",
       "      <th>4</th>\n",
       "      <td>20081029</td>\n",
       "      <td>0.86725</td>\n",
       "      <td>0.810873</td>\n",
       "      <td>0.702529</td>\n",
       "    </tr>\n",
       "  </tbody>\n",
       "</table>\n",
       "</div>"
      ],
      "text/plain": [
       "     doc_id simil_min_sep simil_min_bb simil_sep_bb\n",
       "0  20071031      0.906957     0.879239     0.807933\n",
       "1  20080130      0.845563     0.804725     0.713483\n",
       "2  20080430      0.910424     0.781343     0.732235\n",
       "3  20080625      0.904183     0.711171     0.672773\n",
       "4  20081029       0.86725     0.810873     0.702529"
      ]
     },
     "execution_count": 250,
     "metadata": {},
     "output_type": "execute_result"
    }
   ],
   "source": [
    "df_simil.head()"
   ]
  },
  {
   "cell_type": "code",
   "execution_count": 251,
   "metadata": {},
   "outputs": [
    {
     "data": {
      "image/png": "[encoded data removed]",
      "text/plain": [
       "<Figure size 432x288 with 1 Axes>"
      ]
     },
     "metadata": {
      "needs_background": "light"
     },
     "output_type": "display_data"
    }
   ],
   "source": [
    "df_simil.plot(x = \"doc_id\", y = [\"simil_min_sep\",\"simil_min_bb\", \"simil_sep_bb\"])\n",
    "plt.show()"
   ]
  },
  {
   "cell_type": "code",
   "execution_count": 252,
   "metadata": {},
   "outputs": [],
   "source": [
    "# Write data for R\n",
    "df_simil.to_pickle('../data/data-gen/df_simil.p')"
   ]
  },
  {
   "cell_type": "code",
   "execution_count": null,
   "metadata": {},
   "outputs": [],
   "source": []
  }
 ],
 "metadata": {
  "kernelspec": {
   "display_name": "gcloud",
   "language": "python",
   "name": "gcloud"
  },
  "language_info": {
   "codemirror_mode": {
    "name": "ipython",
    "version": 3
   },
   "file_extension": ".py",
   "mimetype": "text/x-python",
   "name": "python",
   "nbconvert_exporter": "python",
   "pygments_lexer": "ipython3",
   "version": "3.7.1"
  }
 },
 "nbformat": 4,
 "nbformat_minor": 2
}
